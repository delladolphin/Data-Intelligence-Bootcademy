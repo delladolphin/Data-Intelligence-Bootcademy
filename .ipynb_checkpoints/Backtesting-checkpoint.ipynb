{
 "cells": [
  {
   "cell_type": "code",
   "execution_count": null,
   "metadata": {},
   "outputs": [],
   "source": [
    "# Method distribute captial\n",
    "def capital_allocation(row,cash_limit):\n",
    "#     row -> list(fund unit), remaining balance\n",
    "    fund_purchase_unit = []\n",
    "    remaining_balance = 0\n",
    "    for cash,val in zip(cash_limit,row):\n",
    "        if not np.isnan(val):\n",
    "            unit = cash // val\n",
    "            fund_purchase_unit.append(unit)\n",
    "            remaining_balance += cash - (val * unit)\n",
    "    return fund_purchase_unit,remaining_balance"
   ]
  },
  {
   "cell_type": "code",
   "execution_count": null,
   "metadata": {},
   "outputs": [],
   "source": [
    "# validation_df\n",
    "train_period = 24\n",
    "available_capital = 0\n",
    "remaining_balance = 0\n",
    "\n",
    "# Initiate the allocate_df\n",
    "fund_unit_list = pd.DataFrame([])\n",
    "allocate_df = validation_df.filter(regex='[Po]')\n",
    "validation_price_graph = validation_df.filter(regex='[Po]')\n",
    "validation_price_graph['Unit value'] = 0.00\n",
    "validation_price_graph['Unit monthly return'] = 0.00\n",
    "validation_price_graph['Portfolio value'] = 0.00\n",
    "validation_price_graph['Portfolio monthly return'] = 0.00\n",
    "\n",
    "for i in range(len(validation_df)-(train_period+1)):\n",
    "    available_capital += 2000 + remaining_balance\n",
    "    remaining_balance = 0\n",
    "    train_df = validation_df.filter(regex='Return')[i:i+train_period]\n",
    "    \n",
    "    # Genarate weights and portfolio information\n",
    "    portfolio_metrix = portfolios(train_df)\n",
    "    \n",
    "    # select a array of weights based on return maximisation\n",
    "    selected_weight = select_maxreturn(portfolio_metrix)\n",
    "    \n",
    "    # store the unit value for graph\n",
    "    old_unit_value = np.nansum(allocate_df.iloc[i+train_period] * selected_weight)\n",
    "    new_unit_value = np.nansum(allocate_df.iloc[i+train_period+1] * selected_weight)\n",
    "    validation_price_graph['Unit value'][i+train_period] = np.nansum(allocate_df.iloc[i+train_period] * selected_weight)\n",
    "    validation_price_graph['Unit monthly return'][i+train_period+1] = (new_unit_value - old_unit_value)/old_unit_value\n",
    "    \n",
    "    # Capital allocation\n",
    "    cash_for_buy = available_capital * selected_weight\n",
    "    fund_purchase_unit, remaining_balance = capital_allocation(allocate_df.iloc[i+train_period],cash_for_buy)\n",
    "    series_unit = pd.DataFrame([[fund_purchase_unit],[selected_weight]]).T\n",
    "    fund_unit_list = pd.concat([fund_unit_list,series_unit],ignore_index = True)\n",
    "    \n",
    "    old_portfolio_value = np.nansum(allocate_df.iloc[i+train_period] * fund_purchase_unit)\n",
    "    new_portfolio_value = np.nansum(allocate_df.iloc[i+train_period+1] * fund_purchase_unit)\n",
    "    validation_price_graph['Portfolio value'][i+train_period] = old_portfolio_value\n",
    "    # Calculate the percentage of change from the previous month\n",
    "    # validation_df['portfolio period % return'][i+train_period] = \\\n",
    "    validation_price_graph['Portfolio monthly return'][i+train_period+1] = (new_asset_value - old_asset_value)/old_asset_value"
   ]
  }
 ],
 "metadata": {
  "kernelspec": {
   "display_name": "Python 3",
   "language": "python",
   "name": "python3"
  },
  "language_info": {
   "codemirror_mode": {
    "name": "ipython",
    "version": 3
   },
   "file_extension": ".py",
   "mimetype": "text/x-python",
   "name": "python",
   "nbconvert_exporter": "python",
   "pygments_lexer": "ipython3",
   "version": "3.8.3"
  }
 },
 "nbformat": 4,
 "nbformat_minor": 4
}
